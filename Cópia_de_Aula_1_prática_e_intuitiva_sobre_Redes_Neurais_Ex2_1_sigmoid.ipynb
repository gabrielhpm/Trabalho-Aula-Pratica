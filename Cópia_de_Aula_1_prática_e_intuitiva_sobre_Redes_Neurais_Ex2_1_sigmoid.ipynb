{
  "nbformat": 4,
  "nbformat_minor": 0,
  "metadata": {
    "colab": {
      "provenance": []
    },
    "kernelspec": {
      "name": "python3",
      "display_name": "Python 3"
    },
    "language_info": {
      "name": "python"
    }
  },
  "cells": [
    {
      "cell_type": "markdown",
      "source": [
        "Código equivalente ao código anterior, mas agora com uma rede neural de duas camadas, onde cada camada tem um neurônio. A primeira camada recebe as entradas, e a segunda camada recebe a saída da primeira camada como entrada. Vamos usar o mesmo dataset fictício (problema XOR) e permitir a escolha de funções de ativação."
      ],
      "metadata": {
        "id": "ytVHkVA7UMoJ"
      }
    },
    {
      "cell_type": "code",
      "source": [
        "# Gabriel Henrique Petronilo Marques - 202211267\n",
        "# Paulo Ryan Garani Salgado - 202210959\n",
        "\n",
        "import numpy as np\n",
        "import matplotlib.pyplot as plt\n",
        "\n",
        "# Funções de ativação\n",
        "def sigmoid(x):\n",
        "    return 1 / (1 + np.exp(-x))\n",
        "\n",
        "def relu(x):\n",
        "    return np.maximum(0, x)\n",
        "\n",
        "def tanh(x):\n",
        "    return np.tanh(x)\n",
        "\n",
        "# Derivadas das funções de ativação (para o gradiente)\n",
        "def sigmoid_derivative(x):\n",
        "    return sigmoid(x) * (1 - sigmoid(x))\n",
        "\n",
        "def relu_derivative(x):\n",
        "    return np.where(x > 0, 1, 0)\n",
        "\n",
        "def tanh_derivative(x):\n",
        "    return 1 - np.tanh(x)**2\n",
        "\n",
        "# Novo Dataset fictício\n",
        "# Probabilidade de uma pessoa comprar um produto online\n",
        "# Tempo gasto navegando no site (entre 0 e 1), onde 0 significa que a pessoa passou pouco tempo no site e 1 significa que ela ficou muito tempo.\n",
        "# Idade (entre 0 e 1), onde 0 significa que a pessoa tem uma idade jovem (ex: 18 anos) e 1 significa que ela tem uma idade mais avançada (ex: 60 anos).\n",
        "# Entradas: [tempo no site, idade] - entre 0 e 1\n",
        "# Saídas: [probabilidade de compra] - entre 0 e 1\n",
        "X = np.array([\n",
        "    [0.1, 0.2],  # Pessoa que passou pouco tempo no site e é jovem (não comprou)\n",
        "    [0.8, 0.7],  # Pessoa que passou muito tempo no site e tem uma idade mais avançada (comprou)\n",
        "    [0.3, 0.4],  # Pessoa que passou algum tempo no site e é jovem (não comprou)\n",
        "    [0.9, 0.6],  # Pessoa que passou muito tempo no site e tem uma idade mais avançada (comprou)\n",
        "    [0.5, 0.3],  # Pessoa que passou tempo moderado no site e tem idade média (não comprou)\n",
        "    [0.7, 0.8],  # Pessoa que passou muito tempo no site e tem uma idade avançada (comprou)\n",
        "    [0.4, 0.1],  # Pessoa que passou pouco tempo no site e é jovem (não comprou)\n",
        "    [0.6, 0.5]   # Pessoa que passou um bom tempo no site e tem idade média (comprou)\n",
        "])\n",
        "\n",
        "y = np.array([[0], [1], [0], [1], [0], [1], [0], [1]])\n",
        "\n",
        "# Hiperparâmetros\n",
        "learning_rate = 0.5\n",
        "epochs = 50000\n",
        "\n",
        "# Inicialização dos pesos e viés\n",
        "np.random.seed(25)\n",
        "# Camada 1: 2 entradas -> 1 neurônio\n",
        "weights_1 = np.random.randn(2, 1)\n",
        "bias_1 = np.random.randn()\n",
        "\n",
        "# Camada 2: 1 entrada (saída da camada 1) -> 1 neurônio\n",
        "weights_2 = np.random.randn(1, 1)\n",
        "bias_2 = np.random.randn()\n",
        "\n",
        "# Escolha da função de ativação\n",
        "activation_function = sigmoid\n",
        "activation_derivative = sigmoid_derivative\n",
        "\n",
        "# Treinamento da rede\n",
        "errors = []\n",
        "for epoch in range(epochs):\n",
        "    # Forward pass\n",
        "    # Camada 1\n",
        "    weighted_sum_1 = np.dot(X, weights_1) + bias_1\n",
        "    output_1 = activation_function(weighted_sum_1)\n",
        "\n",
        "    # Camada 2\n",
        "    weighted_sum_2 = np.dot(output_1, weights_2) + bias_2\n",
        "    output_2 = activation_function(weighted_sum_2)\n",
        "\n",
        "    # Cálculo do erro (erro quadrático médio)\n",
        "    error = y - output_2\n",
        "    errors.append(np.mean(np.square(error)))\n",
        "\n",
        "    # Backpropagation\n",
        "    # Gradiente da camada 2\n",
        "    d_error = -2 * error / len(X)\n",
        "    d_output_2 = activation_derivative(weighted_sum_2)\n",
        "    gradient_2 = d_error * d_output_2\n",
        "\n",
        "    # Gradiente da camada 1\n",
        "    d_output_1 = activation_derivative(weighted_sum_1)\n",
        "    gradient_1 = np.dot(gradient_2, weights_2.T) * d_output_1\n",
        "\n",
        "    # Atualização dos pesos e viés\n",
        "    weights_2 -= learning_rate * np.dot(output_1.T, gradient_2)\n",
        "    bias_2 -= learning_rate * np.sum(gradient_2)\n",
        "\n",
        "    weights_1 -= learning_rate * np.dot(X.T, gradient_1)\n",
        "    bias_1 -= learning_rate * np.sum(gradient_1)\n",
        "\n",
        "    # Exibir progresso a cada 1000 épocas\n",
        "    if epoch % 1000 == 0:\n",
        "        print(f\"Época {epoch}, Erro: {errors[-1]}\")\n"
      ],
      "metadata": {
        "id": "egTUSccKUTWp",
        "colab": {
          "base_uri": "https://localhost:8080/"
        },
        "outputId": "2764c858-e914-449e-b6f7-5aa20888d908"
      },
      "execution_count": null,
      "outputs": [
        {
          "output_type": "stream",
          "name": "stdout",
          "text": [
            "Época 0, Erro: 0.33007646630290544\n",
            "Época 1000, Erro: 0.024114970025365327\n",
            "Época 2000, Erro: 0.008277200060808813\n",
            "Época 3000, Erro: 0.0044241274871692484\n",
            "Época 4000, Erro: 0.002863681750525535\n",
            "Época 5000, Erro: 0.0020608686370024204\n",
            "Época 6000, Erro: 0.0015847694159071407\n",
            "Época 7000, Erro: 0.0012747084139121743\n",
            "Época 8000, Erro: 0.0010589936494929916\n",
            "Época 9000, Erro: 0.0009013921005865095\n",
            "Época 10000, Erro: 0.0007818346669221657\n",
            "Época 11000, Erro: 0.0006883969853641541\n",
            "Época 12000, Erro: 0.0006135898558471884\n",
            "Época 13000, Erro: 0.0005524934529429898\n",
            "Época 14000, Erro: 0.0005017536016503492\n",
            "Época 15000, Erro: 0.00045901112219698197\n",
            "Época 16000, Erro: 0.0004225620338619098\n",
            "Época 17000, Erro: 0.00039114711992770015\n",
            "Época 18000, Erro: 0.00036381713036547986\n",
            "Época 19000, Erro: 0.0003398438643224412\n",
            "Época 20000, Erro: 0.00031865998766082747\n",
            "Época 21000, Erro: 0.00029981736186450534\n",
            "Época 22000, Erro: 0.0002829575998024078\n",
            "Época 23000, Erro: 0.00026779087955328313\n",
            "Época 24000, Erro: 0.00025408044863568395\n",
            "Época 25000, Erro: 0.00024163112095129414\n",
            "Época 26000, Erro: 0.0002302806216466333\n",
            "Época 27000, Erro: 0.00021989299399107347\n",
            "Época 28000, Erro: 0.000210353519858573\n",
            "Época 29000, Erro: 0.000201564765345242\n",
            "Época 30000, Erro: 0.0001934434725305954\n",
            "Época 31000, Erro: 0.00018591809444615232\n",
            "Época 32000, Erro: 0.00017892682388629048\n",
            "Época 33000, Erro: 0.00017241600491485923\n",
            "Época 34000, Erro: 0.00016633884351235944\n",
            "Época 35000, Erro: 0.0001606543539497028\n",
            "Época 36000, Erro: 0.00015532649232965294\n",
            "Época 37000, Erro: 0.00015032343980042983\n",
            "Época 38000, Erro: 0.00014561700626062728\n",
            "Época 39000, Erro: 0.00014118213167678295\n",
            "Época 40000, Erro: 0.00013699646695090802\n",
            "Época 41000, Erro: 0.00013304001998315843\n",
            "Época 42000, Erro: 0.00012929485545031102\n",
            "Época 43000, Erro: 0.00012574483906597364\n",
            "Época 44000, Erro: 0.00012237541885269524\n",
            "Época 45000, Erro: 0.00011917343735129954\n",
            "Época 46000, Erro: 0.00011612696980211327\n",
            "Época 47000, Erro: 0.00011322518422001773\n",
            "Época 48000, Erro: 0.00011045821999851663\n",
            "Época 49000, Erro: 0.00010781708225427269\n"
          ]
        }
      ]
    },
    {
      "cell_type": "code",
      "source": [
        "# Plot do erro ao longo do treinamento\n",
        "plt.plot(range(epochs), errors)\n",
        "plt.title(\"Erro ao longo do treinamento\")\n",
        "plt.xlabel(\"Época\")\n",
        "plt.ylabel(\"Erro\")\n",
        "plt.show()\n",
        "\n",
        "# Teste da rede treinada\n",
        "print(\"\\nTeste da rede treinada:\")\n",
        "for i in range(len(X)):\n",
        "    # Forward pass\n",
        "    weighted_sum_1 = np.dot(X[i], weights_1) + bias_1\n",
        "    output_1 = activation_function(weighted_sum_1)\n",
        "\n",
        "    weighted_sum_2 = np.dot(output_1, weights_2) + bias_2\n",
        "    output_2 = activation_function(weighted_sum_2)\n",
        "\n",
        "    print(f\"Entrada: {X[i]}, Saída esperada: {y[i]}, Saída da rede: {output_2}\")"
      ],
      "metadata": {
        "id": "_ABiebIyUrdo",
        "colab": {
          "base_uri": "https://localhost:8080/",
          "height": 648
        },
        "outputId": "81aaaeea-8551-4d57-b08b-c160801390af"
      },
      "execution_count": null,
      "outputs": [
        {
          "output_type": "display_data",
          "data": {
            "text/plain": [
              "<Figure size 640x480 with 1 Axes>"
            ],
            "image/png": "[encoded data removed]"
          },
          "metadata": {}
        },
        {
          "output_type": "stream",
          "name": "stdout",
          "text": [
            "\n",
            "Teste da rede treinada:\n",
            "Entrada: [0.1 0.2], Saída esperada: [0], Saída da rede: [0.00129385]\n",
            "Entrada: [0.8 0.7], Saída esperada: [1], Saída da rede: [0.99903979]\n",
            "Entrada: [0.3 0.4], Saída esperada: [0], Saída da rede: [0.00879432]\n",
            "Entrada: [0.9 0.6], Saída esperada: [1], Saída da rede: [0.99899289]\n",
            "Entrada: [0.5 0.3], Saída esperada: [0], Saída da rede: [0.01966314]\n",
            "Entrada: [0.7 0.8], Saída esperada: [1], Saída da rede: [0.99907442]\n",
            "Entrada: [0.4 0.1], Saída esperada: [0], Saída da rede: [0.00154248]\n",
            "Entrada: [0.6 0.5], Saída esperada: [1], Saída da rede: [0.98072507]\n"
          ]
        }
      ]
    }
  ]
}